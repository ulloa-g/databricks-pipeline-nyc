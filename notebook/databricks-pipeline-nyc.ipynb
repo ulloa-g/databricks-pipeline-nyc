{
 "cells": [
  {
   "cell_type": "markdown",
   "metadata": {
    "application/vnd.databricks.v1+cell": {
     "cellMetadata": {
      "byteLimit": 2048000,
      "rowLimit": 10000
     },
     "inputWidgets": {},
     "nuid": "bb66d840-adb1-4a90-b62b-614138c4dc9e",
     "showTitle": false,
     "tableResultSettingsMap": {},
     "title": ""
    }
   },
   "source": [
    "# Proyecto ETL Databricks Spark"
   ]
  },
  {
   "cell_type": "markdown",
   "metadata": {
    "application/vnd.databricks.v1+cell": {
     "cellMetadata": {
      "byteLimit": 2048000,
      "rowLimit": 10000
     },
     "inputWidgets": {},
     "nuid": "c196ba9b-16e6-4669-9f58-1ba95a2d2849",
     "showTitle": false,
     "tableResultSettingsMap": {},
     "title": ""
    }
   },
   "source": [
    "### Extracción de datos desde tabla."
   ]
  },
  {
   "cell_type": "code",
   "execution_count": 0,
   "metadata": {
    "application/vnd.databricks.v1+cell": {
     "cellMetadata": {
      "byteLimit": 2048000,
      "rowLimit": 10000
     },
     "inputWidgets": {},
     "nuid": "35a42753-15e1-4daf-974d-0d984646eadd",
     "showTitle": false,
     "tableResultSettingsMap": {},
     "title": ""
    }
   },
   "outputs": [],
   "source": [
    "# Importar librerías necesarias\n",
    "from pyspark.sql.functions import col, round, unix_timestamp, count, when, isnull\n",
    "\n",
    "# Leer y mostrar un subconjunto de los datos\n",
    "raw_df = spark.read.table(\"samples.nyctaxi.trips\")\n",
    "display(raw_df.limit(10))"
   ]
  },
  {
   "cell_type": "markdown",
   "metadata": {
    "application/vnd.databricks.v1+cell": {
     "cellMetadata": {
      "byteLimit": 2048000,
      "rowLimit": 10000
     },
     "inputWidgets": {},
     "nuid": "4879a87d-c384-454c-8cb5-68acde374667",
     "showTitle": false,
     "tableResultSettingsMap": {},
     "title": ""
    }
   },
   "source": [
    "### Conociendo el dataset."
   ]
  },
  {
   "cell_type": "markdown",
   "metadata": {
    "application/vnd.databricks.v1+cell": {
     "cellMetadata": {
      "byteLimit": 2048000,
      "rowLimit": 10000
     },
     "inputWidgets": {},
     "nuid": "bb841cb7-bedd-4811-9338-8d7e422d8452",
     "showTitle": false,
     "tableResultSettingsMap": {},
     "title": ""
    }
   },
   "source": [
    "La tabla provista desde Amazon S3 por databricks ya viene con las columnas en el tipo de datos correcto, pero es una buena practica revisar."
   ]
  },
  {
   "cell_type": "code",
   "execution_count": 0,
   "metadata": {
    "application/vnd.databricks.v1+cell": {
     "cellMetadata": {
      "byteLimit": 2048000,
      "rowLimit": 10000
     },
     "inputWidgets": {},
     "nuid": "970003ae-9690-4c3f-9898-a12b5e7bf693",
     "showTitle": false,
     "tableResultSettingsMap": {},
     "title": ""
    }
   },
   "outputs": [],
   "source": [
    "# imprimir tipo de datos de columnas (esquema)\n",
    "raw_df.printSchema()"
   ]
  },
  {
   "cell_type": "code",
   "execution_count": 0,
   "metadata": {
    "application/vnd.databricks.v1+cell": {
     "cellMetadata": {
      "byteLimit": 2048000,
      "rowLimit": 10000
     },
     "inputWidgets": {},
     "nuid": "00e17269-6a31-457f-a6ca-df19cf5b05b9",
     "showTitle": false,
     "tableResultSettingsMap": {},
     "title": ""
    }
   },
   "outputs": [],
   "source": [
    "# Mostrar cantidad de filas\n",
    "raw_df.count()"
   ]
  },
  {
   "cell_type": "code",
   "execution_count": 0,
   "metadata": {
    "application/vnd.databricks.v1+cell": {
     "cellMetadata": {
      "byteLimit": 2048000,
      "rowLimit": 10000
     },
     "inputWidgets": {},
     "nuid": "2c718810-caba-46ce-b2ad-b90c0fee85c4",
     "showTitle": false,
     "tableResultSettingsMap": {},
     "title": ""
    }
   },
   "outputs": [],
   "source": [
    "# Mostrar estadísticas descriptivas para columna de tipo numerico\n",
    "raw_df.select(\"fare_amount\").describe().show()"
   ]
  },
  {
   "cell_type": "code",
   "execution_count": 0,
   "metadata": {
    "application/vnd.databricks.v1+cell": {
     "cellMetadata": {
      "byteLimit": 2048000,
      "rowLimit": 10000
     },
     "inputWidgets": {},
     "nuid": "55aa0b8d-2788-4eb1-be1e-f0065cbdb3e3",
     "showTitle": false,
     "tableResultSettingsMap": {},
     "title": ""
    }
   },
   "outputs": [],
   "source": [
    "# Muestra cantidad de valores únicos\n",
    "raw_df.select(\"dropoff_zip\").distinct().count()"
   ]
  },
  {
   "cell_type": "code",
   "execution_count": 0,
   "metadata": {
    "application/vnd.databricks.v1+cell": {
     "cellMetadata": {
      "byteLimit": 2048000,
      "rowLimit": 10000
     },
     "inputWidgets": {},
     "nuid": "f4b733d2-38e4-4c91-b3ed-3c8cff0911b5",
     "showTitle": false,
     "tableResultSettingsMap": {},
     "title": ""
    }
   },
   "outputs": [],
   "source": [
    "# Verificamos si existen valores nulos en alguna columna\n",
    "raw_df.select([\n",
    "    count(when(isnull(c), c)).alias(c)\n",
    "    for c in raw_df.columns\n",
    "]).show()\n",
    "\n",
    "# alias(c) renombra la columna resultante con el nombre original (c), para que el resultado sea legible.\n",
    "# raw_df.columns devuelve una lista con los nombres de todas las columnas del DataFrame"
   ]
  },
  {
   "cell_type": "markdown",
   "metadata": {
    "application/vnd.databricks.v1+cell": {
     "cellMetadata": {
      "byteLimit": 2048000,
      "rowLimit": 10000
     },
     "inputWidgets": {},
     "nuid": "bd422cbb-3dbc-4993-a351-349cc311e4db",
     "showTitle": false,
     "tableResultSettingsMap": {},
     "title": ""
    }
   },
   "source": [
    "### Transformaciones iniciales."
   ]
  },
  {
   "cell_type": "code",
   "execution_count": 0,
   "metadata": {
    "application/vnd.databricks.v1+cell": {
     "cellMetadata": {
      "byteLimit": 2048000,
      "rowLimit": 10000
     },
     "inputWidgets": {},
     "nuid": "bb30a93a-f44c-49ab-a98b-d9b4758fafc1",
     "showTitle": false,
     "tableResultSettingsMap": {},
     "title": ""
    }
   },
   "outputs": [],
   "source": [
    "# Cambiar el nombre de las columnas en el DataFrame\n",
    "renamed_df = raw_df.withColumnRenamed(\"tpep_pickup_datetime\", \"fecha_hora_recogida\") \\\n",
    "    .withColumnRenamed(\"tpep_dropoff_datetime\", \"fecha_hora_destino\") \\\n",
    "    .withColumnRenamed(\"trip_distance\", \"distancia_viaje_millas\") \\\n",
    "    .withColumnRenamed(\"fare_amount\", \"tarifa_usd\") \\\n",
    "    .withColumnRenamed(\"pickup_zip\", \"codigo_postal_recogida\") \\\n",
    "    .withColumnRenamed(\"dropoff_zip\", \"codigo_postal_destino\")"
   ]
  },
  {
   "cell_type": "code",
   "execution_count": 0,
   "metadata": {
    "application/vnd.databricks.v1+cell": {
     "cellMetadata": {
      "byteLimit": 2048000,
      "rowLimit": 10000
     },
     "inputWidgets": {},
     "nuid": "7f322c6e-ac93-4e40-98d8-b01a85609875",
     "showTitle": false,
     "tableResultSettingsMap": {},
     "title": ""
    }
   },
   "outputs": [],
   "source": [
    "# Vimos anteriormente que la columna que ahora llamamos \"tarifa_usd\" contiene valores negativos, lo cual es incoherente con el contexto del negocio.\n",
    "# filtramos un nuevo dataset sin valores negativos\n",
    "renamed_df = renamed_df.filter(col(\"tarifa_usd\") >= 0)\n",
    "renamed_df.select(\"tarifa_usd\").describe().show()"
   ]
  },
  {
   "cell_type": "code",
   "execution_count": 0,
   "metadata": {
    "application/vnd.databricks.v1+cell": {
     "cellMetadata": {
      "byteLimit": 2048000,
      "rowLimit": 10000
     },
     "inputWidgets": {},
     "nuid": "4f2a30a9-28a4-4d69-916b-16cd735602f4",
     "showTitle": false,
     "tableResultSettingsMap": {},
     "title": ""
    }
   },
   "outputs": [],
   "source": [
    "# Vamos a trabajar con el sistema métrico de unidades, por lo tanto vamos a convertir las distancias de millas a kilómetros y redondear a 2 decimales.\n",
    "renamed_df = renamed_df.withColumn(\"distancia_viaje_millas\", round(col(\"distancia_viaje_millas\") * 1.60934, 2))\n",
    "renamed_df = renamed_df.withColumnRenamed(\"distancia_viaje_millas\", \"distancia_viaje_km\")"
   ]
  },
  {
   "cell_type": "code",
   "execution_count": 0,
   "metadata": {
    "application/vnd.databricks.v1+cell": {
     "cellMetadata": {
      "byteLimit": 2048000,
      "rowLimit": 10000
     },
     "inputWidgets": {},
     "nuid": "3b19bec8-b1a2-490f-bead-2588552e15c3",
     "showTitle": false,
     "tableResultSettingsMap": {},
     "title": ""
    }
   },
   "outputs": [],
   "source": [
    "# Vamos a crear una columna adicional con el tiempo de duración del viaje en minutos.\n",
    "renamed_df = renamed_df.withColumn(\n",
    "    \"duracion_viaje_min\",\n",
    "    round((unix_timestamp(\"fecha_hora_destino\") - unix_timestamp(\"fecha_hora_recogida\")) / 60, 2)\n",
    ")"
   ]
  },
  {
   "cell_type": "code",
   "execution_count": 0,
   "metadata": {
    "application/vnd.databricks.v1+cell": {
     "cellMetadata": {
      "byteLimit": 2048000,
      "rowLimit": 10000
     },
     "inputWidgets": {},
     "nuid": "7323277f-e6d5-4a9b-bfb5-6b7d3239532c",
     "showTitle": false,
     "tableResultSettingsMap": {
      "0": {
       "dataGridStateBlob": "{\"version\":1,\"tableState\":{\"columnPinning\":{\"left\":[\"#row_number#\"],\"right\":[]},\"columnSizing\":{\"fecha_hora_recogida\":209,\"fecha_hora_destino\":208},\"columnVisibility\":{}},\"settings\":{\"columns\":{}},\"syncTimestamp\":1759065463617}",
       "filterBlob": null,
       "queryPlanFiltersBlob": null,
       "tableResultIndex": 0
      }
     },
     "title": ""
    }
   },
   "outputs": [],
   "source": [
    "# Veamos las transformaciones realizadas hasta ahora:\n",
    "display(renamed_df.limit(5))"
   ]
  },
  {
   "cell_type": "markdown",
   "metadata": {
    "application/vnd.databricks.v1+cell": {
     "cellMetadata": {
      "byteLimit": 2048000,
      "rowLimit": 10000
     },
     "inputWidgets": {},
     "nuid": "1fb203d7-a62c-406f-accb-dd7e6700428d",
     "showTitle": false,
     "tableResultSettingsMap": {},
     "title": ""
    }
   },
   "source": [
    "# Anális Exploratorio (EDA)"
   ]
  },
  {
   "cell_type": "markdown",
   "metadata": {
    "application/vnd.databricks.v1+cell": {
     "cellMetadata": {
      "byteLimit": 2048000,
      "rowLimit": 10000
     },
     "inputWidgets": {},
     "nuid": "12f3f565-2a4e-4efe-bf12-84e0cc37a74d",
     "showTitle": false,
     "tableResultSettingsMap": {},
     "title": ""
    }
   },
   "source": [
    "De nuestro dataFrame de Spark llamado: **renamed_df** podemos observar que tenemos un listado de codigos postales de recogida y de destino, pero nos sería más facil conocer los nombres de los barrios a donde hacen referencia.\n",
    "\n",
    "Para esto vamos a cargar un **archivo csv** con esta información en Databricks. Lo vamos a transformar en una tabla y vamos a trabajar con **SQL**. "
   ]
  },
  {
   "cell_type": "code",
   "execution_count": 0,
   "metadata": {
    "application/vnd.databricks.v1+cell": {
     "cellMetadata": {
      "byteLimit": 2048000,
      "rowLimit": 10000
     },
     "inputWidgets": {},
     "nuid": "e10915af-b0b0-40a0-924c-c82d742cd546",
     "showTitle": false,
     "tableResultSettingsMap": {},
     "title": ""
    }
   },
   "outputs": [],
   "source": [
    "# Leemos la tabla con la información ampliada de códigos postales.\n",
    "zip_df = spark.read.table(\"workspace.default.nyc_zip_codes\")"
   ]
  },
  {
   "cell_type": "markdown",
   "metadata": {
    "application/vnd.databricks.v1+cell": {
     "cellMetadata": {
      "byteLimit": 2048000,
      "rowLimit": 10000
     },
     "inputWidgets": {},
     "nuid": "5f63bc71-904e-4c5d-aff5-b91092e67965",
     "showTitle": false,
     "tableResultSettingsMap": {},
     "title": ""
    }
   },
   "source": [
    "### Consultas SQL"
   ]
  },
  {
   "cell_type": "code",
   "execution_count": 0,
   "metadata": {
    "application/vnd.databricks.v1+cell": {
     "cellMetadata": {
      "byteLimit": 2048000,
      "rowLimit": 10000
     },
     "inputWidgets": {},
     "nuid": "3401fea6-6195-4d80-822d-4365c92cf311",
     "showTitle": false,
     "tableResultSettingsMap": {},
     "title": ""
    }
   },
   "outputs": [],
   "source": [
    "# Vamos a creear vista temporales con los dos dataframes que tenemos. \n",
    "renamed_df.createOrReplaceTempView(\"trip_table\")\n",
    "zip_df.createOrReplaceTempView(\"zipcode_table\")"
   ]
  },
  {
   "cell_type": "code",
   "execution_count": 0,
   "metadata": {
    "application/vnd.databricks.v1+cell": {
     "cellMetadata": {
      "byteLimit": 2048000,
      "implicitDf": true,
      "rowLimit": 10000
     },
     "inputWidgets": {},
     "nuid": "61be4c4d-fb8d-476b-8ddf-ae0490afc4da",
     "showTitle": false,
     "tableResultSettingsMap": {
      "0": {
       "dataGridStateBlob": "{\"version\":1,\"tableState\":{\"columnPinning\":{\"left\":[\"#row_number#\"],\"right\":[]},\"columnSizing\":{},\"columnVisibility\":{}},\"settings\":{\"columns\":{}},\"syncTimestamp\":1759073418295}",
       "filterBlob": null,
       "queryPlanFiltersBlob": null,
       "tableResultIndex": 0
      }
     },
     "title": ""
    }
   },
   "outputs": [],
   "source": [
    "%sql\n",
    "-- Analicemos si todos los códigos postales en trip_table tienen una correspondencia con los codigos postales en zipcode_table.\n",
    "SELECT DISTINCT t.codigo_postal_destino\n",
    "FROM trip_table AS t\n",
    "WHERE t.codigo_postal_destino NOT IN (SELECT z.zip FROM zipcode_table AS z)\n",
    "ORDER BY t.codigo_postal_destino;"
   ]
  },
  {
   "cell_type": "markdown",
   "metadata": {
    "application/vnd.databricks.v1+cell": {
     "cellMetadata": {
      "byteLimit": 2048000,
      "rowLimit": 10000
     },
     "inputWidgets": {},
     "nuid": "44ffe0f9-df94-4a65-9553-ad2e8a3439bc",
     "showTitle": false,
     "tableResultSettingsMap": {},
     "title": ""
    }
   },
   "source": [
    "Como vemos, existen 55 filas en **trip_table** que no tienen correspondencia con zip_code en **zipcode_table**.\n",
    "\n",
    "Esto nos deja una tarea pendiente para limpieza de este nuevo conjunto de datos."
   ]
  },
  {
   "cell_type": "code",
   "execution_count": 0,
   "metadata": {
    "application/vnd.databricks.v1+cell": {
     "cellMetadata": {
      "byteLimit": 2048000,
      "implicitDf": true,
      "rowLimit": 10000
     },
     "inputWidgets": {},
     "nuid": "888929d4-65e5-4531-a82f-586ed4f0195d",
     "showTitle": false,
     "tableResultSettingsMap": {
      "0": {
       "dataGridStateBlob": "{\"version\":1,\"tableState\":{\"columnPinning\":{\"left\":[\"#row_number#\"],\"right\":[]},\"columnSizing\":{},\"columnVisibility\":{}},\"settings\":{\"columns\":{}},\"syncTimestamp\":1759074250763}",
       "filterBlob": null,
       "queryPlanFiltersBlob": null,
       "tableResultIndex": 0
      }
     },
     "title": ""
    }
   },
   "outputs": [],
   "source": [
    "%sql\n",
    "-- Vamos a crear una tabla llamada \"total_trips_table\"\n",
    "-- Trabajamos con JOINs en SQL para cruzar datos.\n",
    "CREATE TABLE IF NOT EXISTS total_trips_table AS\n",
    "SELECT t.distancia_viaje_km, t.tarifa_usd, t.duracion_viaje_min, zr.post_office AS barrio_recogida, zd.post_office AS barrio_destino\n",
    "FROM trip_table AS t\n",
    "LEFT JOIN zipcode_table AS zr\n",
    "  ON t.codigo_postal_recogida = zr.zip\n",
    "LEFT JOIN zipcode_table AS zd\n",
    "  ON t.codigo_postal_destino = zd.zip\n",
    "WHERE zr.post_office IS NOT NULL AND zd.post_office IS NOT NULL;  -- Eliminamos posibilidades donde sea desconocido ya sea barrio_recogida o barrio_destino."
   ]
  },
  {
   "cell_type": "code",
   "execution_count": 0,
   "metadata": {
    "application/vnd.databricks.v1+cell": {
     "cellMetadata": {
      "byteLimit": 2048000,
      "implicitDf": true,
      "rowLimit": 10000
     },
     "inputWidgets": {},
     "nuid": "4aabd69b-c9c2-4cda-981b-b9f0f41845ed",
     "showTitle": false,
     "tableResultSettingsMap": {},
     "title": ""
    }
   },
   "outputs": [],
   "source": [
    "%sql\n",
    "-- Veamos los 10 viajes más largos\n",
    "SELECT * FROM total_trips_table\n",
    "ORDER BY distancia_viaje_km DESC\n",
    "LIMIT 10;"
   ]
  },
  {
   "cell_type": "code",
   "execution_count": 0,
   "metadata": {
    "application/vnd.databricks.v1+cell": {
     "cellMetadata": {
      "byteLimit": 2048000,
      "implicitDf": true,
      "rowLimit": 10000
     },
     "inputWidgets": {},
     "nuid": "26bfb2fe-225f-4ab9-bfad-8c875aff9d85",
     "showTitle": false,
     "tableResultSettingsMap": {
      "0": {
       "dataGridStateBlob": "{\"version\":1,\"tableState\":{\"columnPinning\":{\"left\":[\"#row_number#\"],\"right\":[]},\"columnSizing\":{},\"columnVisibility\":{}},\"settings\":{\"columns\":{}},\"syncTimestamp\":1759096070582}",
       "filterBlob": null,
       "queryPlanFiltersBlob": null,
       "tableResultIndex": 0
      }
     },
     "title": ""
    }
   },
   "outputs": [],
   "source": [
    "%sql\n",
    "-- Veamos ahora el TOP 5 barrios desde dónde se han solicitado más taxis.\n",
    "SELECT barrio_recogida,\n",
    "  ROUND(AVG(tarifa_usd)) AS tarifa_promedio_usd,\n",
    "  ROUND(AVG(distancia_viaje_km), 2) AS distancia_promedio_km,\n",
    "  ROUND(AVG(duracion_viaje_min), 2) AS duracion_promedio_minutos,\n",
    "  COUNT(*) AS total_recogidas\n",
    "FROM total_trips_table\n",
    "GROUP BY barrio_recogida\n",
    "ORDER BY total_recogidas DESC\n",
    "LIMIT 5;"
   ]
  },
  {
   "cell_type": "markdown",
   "metadata": {
    "application/vnd.databricks.v1+cell": {
     "cellMetadata": {},
     "inputWidgets": {},
     "nuid": "9bf5f0de-a15c-4fcf-81e8-524d83ea47f6",
     "showTitle": false,
     "tableResultSettingsMap": {},
     "title": ""
    }
   },
   "source": [
    "### Correlación"
   ]
  },
  {
   "cell_type": "code",
   "execution_count": 0,
   "metadata": {
    "application/vnd.databricks.v1+cell": {
     "cellMetadata": {
      "byteLimit": 2048000,
      "rowLimit": 10000
     },
     "inputWidgets": {},
     "nuid": "5039c308-196a-46f5-a3f7-a8b74c6cea32",
     "showTitle": false,
     "tableResultSettingsMap": {},
     "title": ""
    }
   },
   "outputs": [],
   "source": [
    "\n",
    "p_corr = renamed_df.stat.corr(\"distancia_viaje_km\", \"tarifa_usd\")\n",
    "print(f\"Correlación entre distancia y tarifa: {p_corr}\")"
   ]
  },
  {
   "cell_type": "code",
   "execution_count": 0,
   "metadata": {
    "application/vnd.databricks.v1+cell": {
     "cellMetadata": {
      "byteLimit": 2048000,
      "rowLimit": 10000
     },
     "inputWidgets": {},
     "nuid": "8cf2c61d-0f4b-48f0-a202-54c272b7020d",
     "showTitle": false,
     "tableResultSettingsMap": {},
     "title": ""
    }
   },
   "outputs": [],
   "source": [
    "import matplotlib.pyplot as plt\n",
    "pd_df = renamed_df.toPandas()\n",
    "pd_df.plot.scatter(x=\"distancia_viaje_km\", y=\"tarifa_usd\")\n",
    "plt.show()"
   ]
  }
 ],
 "metadata": {
  "application/vnd.databricks.v1+notebook": {
   "computePreferences": null,
   "dashboards": [],
   "environmentMetadata": {
    "base_environment": "",
    "environment_version": "3"
   },
   "inputWidgetPreferences": null,
   "language": "python",
   "notebookMetadata": {
    "mostRecentlyExecutedCommandWithImplicitDF": {
     "commandId": 8680496199420242,
     "dataframes": [
      "_sqldf"
     ]
    },
    "pythonIndentUnit": 4
   },
   "notebookName": "databricks-pipeline-nyc",
   "widgets": {}
  },
  "language_info": {
   "name": "python"
  }
 },
 "nbformat": 4,
 "nbformat_minor": 0
}